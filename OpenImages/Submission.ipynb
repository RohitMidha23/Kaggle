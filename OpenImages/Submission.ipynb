{
 "cells": [
  {
   "cell_type": "code",
   "execution_count": 1,
   "metadata": {},
   "outputs": [],
   "source": [
    "import pandas as pd \n"
   ]
  },
  {
   "cell_type": "code",
   "execution_count": 2,
   "metadata": {},
   "outputs": [],
   "source": [
    "sub_df = pd.read_csv('subm/predictions_0.01_0.55_avg.csv')"
   ]
  },
  {
   "cell_type": "code",
   "execution_count": 3,
   "metadata": {},
   "outputs": [],
   "source": [
    "sub = pd.read_csv('sample_submission.csv')"
   ]
  },
  {
   "cell_type": "code",
   "execution_count": 4,
   "metadata": {},
   "outputs": [
    {
     "data": {
      "text/html": [
       "<div>\n",
       "<style scoped>\n",
       "    .dataframe tbody tr th:only-of-type {\n",
       "        vertical-align: middle;\n",
       "    }\n",
       "\n",
       "    .dataframe tbody tr th {\n",
       "        vertical-align: top;\n",
       "    }\n",
       "\n",
       "    .dataframe thead th {\n",
       "        text-align: right;\n",
       "    }\n",
       "</style>\n",
       "<table border=\"1\" class=\"dataframe\">\n",
       "  <thead>\n",
       "    <tr style=\"text-align: right;\">\n",
       "      <th></th>\n",
       "      <th>ImageId</th>\n",
       "      <th>PredictionString</th>\n",
       "    </tr>\n",
       "  </thead>\n",
       "  <tbody>\n",
       "    <tr>\n",
       "      <th>0</th>\n",
       "      <td>00000b4dcff7f799</td>\n",
       "      <td>/m/07r04 0.637301 0.0026 0.1135 0.7096 0.8753 ...</td>\n",
       "    </tr>\n",
       "    <tr>\n",
       "      <th>1</th>\n",
       "      <td>00001a21632de752</td>\n",
       "      <td>/m/03bt1vf 0.494606 0.2765 0.6115 0.5104 0.998...</td>\n",
       "    </tr>\n",
       "    <tr>\n",
       "      <th>2</th>\n",
       "      <td>0000d67245642c5f</td>\n",
       "      <td>/m/0d5gx 0.735993 0.0202 0.0382 0.9911 0.9947 ...</td>\n",
       "    </tr>\n",
       "    <tr>\n",
       "      <th>3</th>\n",
       "      <td>0001244aa8ed3099</td>\n",
       "      <td>/m/03jm5 0.282691 0.0054 0.0422 0.8315 0.7736 ...</td>\n",
       "    </tr>\n",
       "    <tr>\n",
       "      <th>4</th>\n",
       "      <td>000172d1dd1adce0</td>\n",
       "      <td>/m/0d5gx 0.872770 0.2423 0.0112 0.7989 0.8416 ...</td>\n",
       "    </tr>\n",
       "  </tbody>\n",
       "</table>\n",
       "</div>"
      ],
      "text/plain": [
       "            ImageId                                   PredictionString\n",
       "0  00000b4dcff7f799  /m/07r04 0.637301 0.0026 0.1135 0.7096 0.8753 ...\n",
       "1  00001a21632de752  /m/03bt1vf 0.494606 0.2765 0.6115 0.5104 0.998...\n",
       "2  0000d67245642c5f  /m/0d5gx 0.735993 0.0202 0.0382 0.9911 0.9947 ...\n",
       "3  0001244aa8ed3099  /m/03jm5 0.282691 0.0054 0.0422 0.8315 0.7736 ...\n",
       "4  000172d1dd1adce0  /m/0d5gx 0.872770 0.2423 0.0112 0.7989 0.8416 ..."
      ]
     },
     "execution_count": 4,
     "metadata": {},
     "output_type": "execute_result"
    }
   ],
   "source": [
    "sub_df.head()"
   ]
  },
  {
   "cell_type": "code",
   "execution_count": 5,
   "metadata": {},
   "outputs": [
    {
     "data": {
      "text/html": [
       "<div>\n",
       "<style scoped>\n",
       "    .dataframe tbody tr th:only-of-type {\n",
       "        vertical-align: middle;\n",
       "    }\n",
       "\n",
       "    .dataframe tbody tr th {\n",
       "        vertical-align: top;\n",
       "    }\n",
       "\n",
       "    .dataframe thead th {\n",
       "        text-align: right;\n",
       "    }\n",
       "</style>\n",
       "<table border=\"1\" class=\"dataframe\">\n",
       "  <thead>\n",
       "    <tr style=\"text-align: right;\">\n",
       "      <th></th>\n",
       "      <th>ImageId</th>\n",
       "      <th>PredictionString</th>\n",
       "    </tr>\n",
       "  </thead>\n",
       "  <tbody>\n",
       "    <tr>\n",
       "      <th>0</th>\n",
       "      <td>b5d912e06f74e948</td>\n",
       "      <td>/m/05s2s 0.9 0.46 0.08 0.93 0.5 /m/0c9ph5 0.5 ...</td>\n",
       "    </tr>\n",
       "    <tr>\n",
       "      <th>1</th>\n",
       "      <td>be137cf6bb0b62d5</td>\n",
       "      <td>/m/05s2s 0.9 0.46 0.08 0.93 0.5 /m/0c9ph5 0.5 ...</td>\n",
       "    </tr>\n",
       "    <tr>\n",
       "      <th>2</th>\n",
       "      <td>8d65ca08cb5ce8e8</td>\n",
       "      <td>/m/05s2s 0.9 0.46 0.08 0.93 0.5 /m/0c9ph5 0.5 ...</td>\n",
       "    </tr>\n",
       "    <tr>\n",
       "      <th>3</th>\n",
       "      <td>4d3ad1e52ad8c065</td>\n",
       "      <td>/m/05s2s 0.9 0.46 0.08 0.93 0.5 /m/0c9ph5 0.5 ...</td>\n",
       "    </tr>\n",
       "    <tr>\n",
       "      <th>4</th>\n",
       "      <td>9b94408691c7d7bf</td>\n",
       "      <td>/m/05s2s 0.9 0.46 0.08 0.93 0.5 /m/0c9ph5 0.5 ...</td>\n",
       "    </tr>\n",
       "  </tbody>\n",
       "</table>\n",
       "</div>"
      ],
      "text/plain": [
       "            ImageId                                   PredictionString\n",
       "0  b5d912e06f74e948  /m/05s2s 0.9 0.46 0.08 0.93 0.5 /m/0c9ph5 0.5 ...\n",
       "1  be137cf6bb0b62d5  /m/05s2s 0.9 0.46 0.08 0.93 0.5 /m/0c9ph5 0.5 ...\n",
       "2  8d65ca08cb5ce8e8  /m/05s2s 0.9 0.46 0.08 0.93 0.5 /m/0c9ph5 0.5 ...\n",
       "3  4d3ad1e52ad8c065  /m/05s2s 0.9 0.46 0.08 0.93 0.5 /m/0c9ph5 0.5 ...\n",
       "4  9b94408691c7d7bf  /m/05s2s 0.9 0.46 0.08 0.93 0.5 /m/0c9ph5 0.5 ..."
      ]
     },
     "execution_count": 5,
     "metadata": {},
     "output_type": "execute_result"
    }
   ],
   "source": [
    "sub.head()"
   ]
  },
  {
   "cell_type": "code",
   "execution_count": 7,
   "metadata": {},
   "outputs": [],
   "source": [
    "sub = sub.drop('PredictionString',axis=1)"
   ]
  },
  {
   "cell_type": "code",
   "execution_count": 9,
   "metadata": {},
   "outputs": [
    {
     "data": {
      "text/html": [
       "<div>\n",
       "<style scoped>\n",
       "    .dataframe tbody tr th:only-of-type {\n",
       "        vertical-align: middle;\n",
       "    }\n",
       "\n",
       "    .dataframe tbody tr th {\n",
       "        vertical-align: top;\n",
       "    }\n",
       "\n",
       "    .dataframe thead th {\n",
       "        text-align: right;\n",
       "    }\n",
       "</style>\n",
       "<table border=\"1\" class=\"dataframe\">\n",
       "  <thead>\n",
       "    <tr style=\"text-align: right;\">\n",
       "      <th></th>\n",
       "      <th>ImageId</th>\n",
       "      <th>PredictionString</th>\n",
       "    </tr>\n",
       "  </thead>\n",
       "  <tbody>\n",
       "    <tr>\n",
       "      <th>0</th>\n",
       "      <td>b5d912e06f74e948</td>\n",
       "      <td>/m/04yx4 0.537597 0.4318 0.2809 0.5377 0.7881 ...</td>\n",
       "    </tr>\n",
       "    <tr>\n",
       "      <th>1</th>\n",
       "      <td>be137cf6bb0b62d5</td>\n",
       "      <td>/m/04yx4 0.483357 0.4967 0.1238 0.8884 1.0000 ...</td>\n",
       "    </tr>\n",
       "    <tr>\n",
       "      <th>2</th>\n",
       "      <td>8d65ca08cb5ce8e8</td>\n",
       "      <td>/m/0nybt 0.747697 0.2949 0.5101 0.5608 0.9079 ...</td>\n",
       "    </tr>\n",
       "    <tr>\n",
       "      <th>3</th>\n",
       "      <td>4d3ad1e52ad8c065</td>\n",
       "      <td>/m/0fz0h 0.759059 0.1934 0.5308 0.8302 0.9150 ...</td>\n",
       "    </tr>\n",
       "    <tr>\n",
       "      <th>4</th>\n",
       "      <td>9b94408691c7d7bf</td>\n",
       "      <td>/m/063rgb 0.662614 0.0414 0.0560 0.6729 0.9737...</td>\n",
       "    </tr>\n",
       "  </tbody>\n",
       "</table>\n",
       "</div>"
      ],
      "text/plain": [
       "            ImageId                                   PredictionString\n",
       "0  b5d912e06f74e948  /m/04yx4 0.537597 0.4318 0.2809 0.5377 0.7881 ...\n",
       "1  be137cf6bb0b62d5  /m/04yx4 0.483357 0.4967 0.1238 0.8884 1.0000 ...\n",
       "2  8d65ca08cb5ce8e8  /m/0nybt 0.747697 0.2949 0.5101 0.5608 0.9079 ...\n",
       "3  4d3ad1e52ad8c065  /m/0fz0h 0.759059 0.1934 0.5308 0.8302 0.9150 ...\n",
       "4  9b94408691c7d7bf  /m/063rgb 0.662614 0.0414 0.0560 0.6729 0.9737..."
      ]
     },
     "execution_count": 9,
     "metadata": {},
     "output_type": "execute_result"
    }
   ],
   "source": [
    "final = pd.merge(sub,sub_df,on='ImageId')\n",
    "final.head()"
   ]
  },
  {
   "cell_type": "code",
   "execution_count": 10,
   "metadata": {},
   "outputs": [],
   "source": [
    "final.to_csv('subm1.csv',index=False)"
   ]
  },
  {
   "cell_type": "code",
   "execution_count": null,
   "metadata": {},
   "outputs": [],
   "source": []
  }
 ],
 "metadata": {
  "kernelspec": {
   "display_name": "Python 3",
   "language": "python",
   "name": "python3"
  },
  "language_info": {
   "codemirror_mode": {
    "name": "ipython",
    "version": 3
   },
   "file_extension": ".py",
   "mimetype": "text/x-python",
   "name": "python",
   "nbconvert_exporter": "python",
   "pygments_lexer": "ipython3",
   "version": "3.6.8"
  }
 },
 "nbformat": 4,
 "nbformat_minor": 2
}
